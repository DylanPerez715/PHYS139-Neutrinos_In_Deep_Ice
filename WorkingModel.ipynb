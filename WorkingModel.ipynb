{
 "cells": [
  {
   "cell_type": "code",
   "execution_count": null,
   "id": "799339fb",
   "metadata": {},
   "outputs": [],
   "source": [
    "# !pip install numpy --upgrade\n",
    "# !pip install scipy --upgrade\n",
    "# !pip install --user --force-reinstall numpy==1.20.0"
   ]
  },
  {
   "cell_type": "code",
   "execution_count": null,
   "id": "4ad668c5",
   "metadata": {},
   "outputs": [],
   "source": []
  },
  {
   "cell_type": "code",
   "execution_count": 1,
   "id": "451ffc69",
   "metadata": {
    "scrolled": true
   },
   "outputs": [
    {
     "name": "stdout",
     "output_type": "stream",
     "text": [
      "      batch_id  event_id  first_pulse_index  last_pulse_index   azimuth  \\\n",
      "0            0         0                  0                49  3.278431   \n",
      "1            0         1                 50                99  3.698946   \n",
      "2            0         2                100               149  0.830622   \n",
      "3            0         3                150               199  5.133916   \n",
      "4            0         4                200               249  6.244107   \n",
      "...        ...       ...                ...               ...       ...   \n",
      "1995         9       195               9750              9799  0.772238   \n",
      "1996         9       196               9800              9849  5.217436   \n",
      "1997         9       197               9850              9899  1.754248   \n",
      "1998         9       198               9900              9949  5.237115   \n",
      "1999         9       199               9950              9999  0.250161   \n",
      "\n",
      "        zenith  \n",
      "0     2.572426  \n",
      "1     2.942230  \n",
      "2     0.131855  \n",
      "3     0.466935  \n",
      "4     0.400541  \n",
      "...        ...  \n",
      "1995  0.338043  \n",
      "1996  1.320583  \n",
      "1997  3.001463  \n",
      "1998  2.984553  \n",
      "1999  1.117018  \n",
      "\n",
      "[2000 rows x 6 columns]\n",
      "       event_id  time  sensor_id    charge  auxiliary\n",
      "0             0  2818       4904  0.962490      False\n",
      "1             0  5590       3881  0.781668       True\n",
      "2             0  3749       2117  1.157510      False\n",
      "3             0  8497        243  0.853355      False\n",
      "4             0   565        647  0.984879       True\n",
      "...         ...   ...        ...       ...        ...\n",
      "99995       199  4848       4455  0.929529      False\n",
      "99996       199  4110       1585  1.029667       True\n",
      "99997       199  4516       1997  0.971365       True\n",
      "99998       199  6630       2040  1.015879      False\n",
      "99999       199  7649       2695  1.024910      False\n",
      "\n",
      "[100000 rows x 5 columns]\n",
      "      batch_id  event_id  first_pulse_index  last_pulse_index   azimuth  \\\n",
      "0            0         0                  0                49  3.278431   \n",
      "1            0         1                 50                99  3.698946   \n",
      "2            0         2                100               149  0.830622   \n",
      "3            0         3                150               199  5.133916   \n",
      "4            0         4                200               249  6.244107   \n",
      "...        ...       ...                ...               ...       ...   \n",
      "1995         9       195               9750              9799  0.772238   \n",
      "1996         9       196               9800              9849  5.217436   \n",
      "1997         9       197               9850              9899  1.754248   \n",
      "1998         9       198               9900              9949  5.237115   \n",
      "1999         9       199               9950              9999  0.250161   \n",
      "\n",
      "        zenith  \n",
      "0     2.572426  \n",
      "1     2.942230  \n",
      "2     0.131855  \n",
      "3     0.466935  \n",
      "4     0.400541  \n",
      "...        ...  \n",
      "1995  0.338043  \n",
      "1996  1.320583  \n",
      "1997  3.001463  \n",
      "1998  2.984553  \n",
      "1999  1.117018  \n",
      "\n",
      "[2000 rows x 6 columns]\n",
      "[[0.2818282  0.95057184 0.96249026 0.        ]\n",
      " [0.5590559  0.75227755 0.7816679  1.        ]\n",
      " [0.3749375  0.41035083 1.1575105  0.        ]\n",
      " ...\n",
      " [0.8427843  0.8964916  1.0818852  0.        ]\n",
      " [0.00430043 0.8970731  0.9958587  1.        ]\n",
      " [0.7045705  0.10370227 0.9747658  0.        ]]\n"
     ]
    },
    {
     "name": "stderr",
     "output_type": "stream",
     "text": [
      "  2%|▏         | 1/50 [00:48<39:36, 48.50s/it]"
     ]
    },
    {
     "name": "stdout",
     "output_type": "stream",
     "text": [
      "Epoch 1/50, Loss: 2.115750789642334, Validation Loss: 2.1276485919952393\n"
     ]
    },
    {
     "name": "stderr",
     "output_type": "stream",
     "text": [
      "\r",
      "  4%|▍         | 2/50 [01:38<39:41, 49.62s/it]"
     ]
    },
    {
     "name": "stdout",
     "output_type": "stream",
     "text": [
      "Epoch 2/50, Loss: 1.6471251249313354, Validation Loss: 2.1228160858154297\n"
     ]
    },
    {
     "name": "stderr",
     "output_type": "stream",
     "text": [
      "\r",
      "  6%|▌         | 3/50 [02:29<39:17, 50.16s/it]"
     ]
    },
    {
     "name": "stdout",
     "output_type": "stream",
     "text": [
      "Epoch 3/50, Loss: 2.2347397804260254, Validation Loss: 2.12262225151062\n"
     ]
    },
    {
     "name": "stderr",
     "output_type": "stream",
     "text": [
      "\r",
      "  8%|▊         | 4/50 [03:18<38:08, 49.74s/it]"
     ]
    },
    {
     "name": "stdout",
     "output_type": "stream",
     "text": [
      "Epoch 4/50, Loss: 2.3635833263397217, Validation Loss: 2.1534533500671387\n"
     ]
    },
    {
     "name": "stderr",
     "output_type": "stream",
     "text": [
      "\r",
      " 10%|█         | 5/50 [04:06<36:40, 48.89s/it]"
     ]
    },
    {
     "name": "stdout",
     "output_type": "stream",
     "text": [
      "Epoch 5/50, Loss: 2.0423367023468018, Validation Loss: 2.134723424911499\n"
     ]
    },
    {
     "name": "stderr",
     "output_type": "stream",
     "text": [
      "\r",
      " 12%|█▏        | 6/50 [04:51<34:53, 47.57s/it]"
     ]
    },
    {
     "name": "stdout",
     "output_type": "stream",
     "text": [
      "Epoch 6/50, Loss: 1.6694931983947754, Validation Loss: 2.1391541957855225\n"
     ]
    },
    {
     "name": "stderr",
     "output_type": "stream",
     "text": [
      "\r",
      " 14%|█▍        | 7/50 [05:37<33:48, 47.18s/it]"
     ]
    },
    {
     "name": "stdout",
     "output_type": "stream",
     "text": [
      "Epoch 7/50, Loss: 2.2232706546783447, Validation Loss: 2.1440024375915527\n"
     ]
    },
    {
     "name": "stderr",
     "output_type": "stream",
     "text": [
      "\r",
      " 16%|█▌        | 8/50 [06:23<32:39, 46.66s/it]"
     ]
    },
    {
     "name": "stdout",
     "output_type": "stream",
     "text": [
      "Epoch 8/50, Loss: 1.913744330406189, Validation Loss: 2.1435952186584473\n"
     ]
    },
    {
     "name": "stderr",
     "output_type": "stream",
     "text": [
      "\r",
      " 18%|█▊        | 9/50 [07:09<31:48, 46.54s/it]"
     ]
    },
    {
     "name": "stdout",
     "output_type": "stream",
     "text": [
      "Epoch 9/50, Loss: 1.3569729328155518, Validation Loss: 2.125026226043701\n"
     ]
    },
    {
     "name": "stderr",
     "output_type": "stream",
     "text": [
      "\r",
      " 20%|██        | 10/50 [07:55<30:59, 46.50s/it]"
     ]
    },
    {
     "name": "stdout",
     "output_type": "stream",
     "text": [
      "Epoch 10/50, Loss: 2.011674165725708, Validation Loss: 2.1335108280181885\n"
     ]
    },
    {
     "name": "stderr",
     "output_type": "stream",
     "text": [
      "\r",
      " 22%|██▏       | 11/50 [08:43<30:21, 46.72s/it]"
     ]
    },
    {
     "name": "stdout",
     "output_type": "stream",
     "text": [
      "Epoch 11/50, Loss: 2.050429582595825, Validation Loss: 2.125680923461914\n"
     ]
    },
    {
     "name": "stderr",
     "output_type": "stream",
     "text": [
      "\r",
      " 24%|██▍       | 12/50 [09:28<29:16, 46.22s/it]"
     ]
    },
    {
     "name": "stdout",
     "output_type": "stream",
     "text": [
      "Epoch 12/50, Loss: 1.7823901176452637, Validation Loss: 2.127450942993164\n"
     ]
    },
    {
     "name": "stderr",
     "output_type": "stream",
     "text": [
      "\r",
      " 26%|██▌       | 13/50 [10:13<28:18, 45.91s/it]"
     ]
    },
    {
     "name": "stdout",
     "output_type": "stream",
     "text": [
      "Epoch 13/50, Loss: 2.4908807277679443, Validation Loss: 2.1471688747406006\n"
     ]
    },
    {
     "name": "stderr",
     "output_type": "stream",
     "text": [
      "\r",
      " 28%|██▊       | 14/50 [11:00<27:42, 46.18s/it]"
     ]
    },
    {
     "name": "stdout",
     "output_type": "stream",
     "text": [
      "Epoch 14/50, Loss: 2.2626919746398926, Validation Loss: 2.1196975708007812\n"
     ]
    },
    {
     "name": "stderr",
     "output_type": "stream",
     "text": [
      "\r",
      " 30%|███       | 15/50 [11:46<26:57, 46.22s/it]"
     ]
    },
    {
     "name": "stdout",
     "output_type": "stream",
     "text": [
      "Epoch 15/50, Loss: 1.9886159896850586, Validation Loss: 2.142463445663452\n"
     ]
    },
    {
     "name": "stderr",
     "output_type": "stream",
     "text": [
      "\r",
      " 32%|███▏      | 16/50 [12:33<26:24, 46.60s/it]"
     ]
    },
    {
     "name": "stdout",
     "output_type": "stream",
     "text": [
      "Epoch 16/50, Loss: 2.4896342754364014, Validation Loss: 2.126448154449463\n"
     ]
    },
    {
     "name": "stderr",
     "output_type": "stream",
     "text": [
      "\r",
      " 34%|███▍      | 17/50 [13:20<25:33, 46.47s/it]"
     ]
    },
    {
     "name": "stdout",
     "output_type": "stream",
     "text": [
      "Epoch 17/50, Loss: 2.0532402992248535, Validation Loss: 2.1233556270599365\n"
     ]
    },
    {
     "name": "stderr",
     "output_type": "stream",
     "text": [
      "\r",
      " 36%|███▌      | 18/50 [14:07<24:55, 46.73s/it]"
     ]
    },
    {
     "name": "stdout",
     "output_type": "stream",
     "text": [
      "Epoch 18/50, Loss: 1.8673663139343262, Validation Loss: 2.1395349502563477\n"
     ]
    },
    {
     "name": "stderr",
     "output_type": "stream",
     "text": [
      "\r",
      " 38%|███▊      | 19/50 [14:53<24:04, 46.60s/it]"
     ]
    },
    {
     "name": "stdout",
     "output_type": "stream",
     "text": [
      "Epoch 19/50, Loss: 2.064640998840332, Validation Loss: 2.141195297241211\n"
     ]
    },
    {
     "name": "stderr",
     "output_type": "stream",
     "text": [
      "\r",
      " 40%|████      | 20/50 [15:40<23:23, 46.78s/it]"
     ]
    },
    {
     "name": "stdout",
     "output_type": "stream",
     "text": [
      "Epoch 20/50, Loss: 1.9123424291610718, Validation Loss: 2.132272720336914\n"
     ]
    },
    {
     "name": "stderr",
     "output_type": "stream",
     "text": [
      "\r",
      " 42%|████▏     | 21/50 [16:27<22:39, 46.88s/it]"
     ]
    },
    {
     "name": "stdout",
     "output_type": "stream",
     "text": [
      "Epoch 21/50, Loss: 2.014105796813965, Validation Loss: 2.120440721511841\n"
     ]
    },
    {
     "name": "stderr",
     "output_type": "stream",
     "text": [
      "\r",
      " 44%|████▍     | 22/50 [17:13<21:42, 46.53s/it]"
     ]
    },
    {
     "name": "stdout",
     "output_type": "stream",
     "text": [
      "Epoch 22/50, Loss: 2.306878089904785, Validation Loss: 2.1205074787139893\n"
     ]
    },
    {
     "name": "stderr",
     "output_type": "stream",
     "text": [
      "\r",
      " 46%|████▌     | 23/50 [17:59<20:51, 46.37s/it]"
     ]
    },
    {
     "name": "stdout",
     "output_type": "stream",
     "text": [
      "Epoch 23/50, Loss: 1.9585237503051758, Validation Loss: 2.170112371444702\n"
     ]
    },
    {
     "name": "stderr",
     "output_type": "stream",
     "text": [
      "\r",
      " 48%|████▊     | 24/50 [18:46<20:08, 46.47s/it]"
     ]
    },
    {
     "name": "stdout",
     "output_type": "stream",
     "text": [
      "Epoch 24/50, Loss: 2.103943347930908, Validation Loss: 2.1252846717834473\n"
     ]
    },
    {
     "name": "stderr",
     "output_type": "stream",
     "text": [
      "\r",
      " 50%|█████     | 25/50 [19:33<19:27, 46.68s/it]"
     ]
    },
    {
     "name": "stdout",
     "output_type": "stream",
     "text": [
      "Epoch 25/50, Loss: 2.378312587738037, Validation Loss: 2.1293885707855225\n"
     ]
    },
    {
     "name": "stderr",
     "output_type": "stream",
     "text": [
      "\r",
      " 52%|█████▏    | 26/50 [20:20<18:41, 46.72s/it]"
     ]
    },
    {
     "name": "stdout",
     "output_type": "stream",
     "text": [
      "Epoch 26/50, Loss: 2.269521474838257, Validation Loss: 2.1268105506896973\n"
     ]
    },
    {
     "name": "stderr",
     "output_type": "stream",
     "text": [
      "\r",
      " 54%|█████▍    | 27/50 [21:07<17:58, 46.90s/it]"
     ]
    },
    {
     "name": "stdout",
     "output_type": "stream",
     "text": [
      "Epoch 27/50, Loss: 2.264432191848755, Validation Loss: 2.1379752159118652\n"
     ]
    },
    {
     "name": "stderr",
     "output_type": "stream",
     "text": [
      "\r",
      " 56%|█████▌    | 28/50 [21:52<17:00, 46.38s/it]"
     ]
    },
    {
     "name": "stdout",
     "output_type": "stream",
     "text": [
      "Epoch 28/50, Loss: 2.035173177719116, Validation Loss: 2.1365151405334473\n"
     ]
    },
    {
     "name": "stderr",
     "output_type": "stream",
     "text": [
      "\r",
      " 58%|█████▊    | 29/50 [22:40<16:18, 46.60s/it]"
     ]
    },
    {
     "name": "stdout",
     "output_type": "stream",
     "text": [
      "Epoch 29/50, Loss: 2.1799302101135254, Validation Loss: 2.124342203140259\n"
     ]
    },
    {
     "name": "stderr",
     "output_type": "stream",
     "text": [
      "\r",
      " 60%|██████    | 30/50 [23:27<15:36, 46.84s/it]"
     ]
    },
    {
     "name": "stdout",
     "output_type": "stream",
     "text": [
      "Epoch 30/50, Loss: 2.2156283855438232, Validation Loss: 2.124612808227539\n"
     ]
    },
    {
     "name": "stderr",
     "output_type": "stream",
     "text": [
      "\r",
      " 62%|██████▏   | 31/50 [24:16<15:05, 47.64s/it]"
     ]
    },
    {
     "name": "stdout",
     "output_type": "stream",
     "text": [
      "Epoch 31/50, Loss: 1.8301880359649658, Validation Loss: 2.1415815353393555\n"
     ]
    },
    {
     "name": "stderr",
     "output_type": "stream",
     "text": [
      "\r",
      " 64%|██████▍   | 32/50 [25:05<14:25, 48.07s/it]"
     ]
    },
    {
     "name": "stdout",
     "output_type": "stream",
     "text": [
      "Epoch 32/50, Loss: 1.6995900869369507, Validation Loss: 2.146311044692993\n"
     ]
    },
    {
     "name": "stderr",
     "output_type": "stream",
     "text": [
      "\r",
      " 66%|██████▌   | 33/50 [25:54<13:38, 48.14s/it]"
     ]
    },
    {
     "name": "stdout",
     "output_type": "stream",
     "text": [
      "Epoch 33/50, Loss: 2.649401903152466, Validation Loss: 2.133439540863037\n"
     ]
    },
    {
     "name": "stderr",
     "output_type": "stream",
     "text": [
      "\r",
      " 68%|██████▊   | 34/50 [26:44<12:57, 48.61s/it]"
     ]
    },
    {
     "name": "stdout",
     "output_type": "stream",
     "text": [
      "Epoch 34/50, Loss: 2.274235963821411, Validation Loss: 2.1228249073028564\n"
     ]
    },
    {
     "name": "stderr",
     "output_type": "stream",
     "text": [
      "\r",
      " 70%|███████   | 35/50 [27:31<12:05, 48.40s/it]"
     ]
    },
    {
     "name": "stdout",
     "output_type": "stream",
     "text": [
      "Epoch 35/50, Loss: 2.502042770385742, Validation Loss: 2.1294355392456055\n"
     ]
    },
    {
     "name": "stderr",
     "output_type": "stream",
     "text": [
      "\r",
      " 72%|███████▏  | 36/50 [28:20<11:18, 48.49s/it]"
     ]
    },
    {
     "name": "stdout",
     "output_type": "stream",
     "text": [
      "Epoch 36/50, Loss: 2.360889196395874, Validation Loss: 2.1203341484069824\n"
     ]
    },
    {
     "name": "stderr",
     "output_type": "stream",
     "text": [
      "\r",
      " 74%|███████▍  | 37/50 [29:08<10:26, 48.16s/it]"
     ]
    },
    {
     "name": "stdout",
     "output_type": "stream",
     "text": [
      "Epoch 37/50, Loss: 2.9809343814849854, Validation Loss: 2.1445019245147705\n"
     ]
    },
    {
     "name": "stderr",
     "output_type": "stream",
     "text": [
      "\r",
      " 76%|███████▌  | 38/50 [29:59<09:50, 49.22s/it]"
     ]
    },
    {
     "name": "stdout",
     "output_type": "stream",
     "text": [
      "Epoch 38/50, Loss: 2.5875937938690186, Validation Loss: 2.1654868125915527\n"
     ]
    },
    {
     "name": "stderr",
     "output_type": "stream",
     "text": [
      "\r",
      " 78%|███████▊  | 39/50 [30:47<08:57, 48.85s/it]"
     ]
    },
    {
     "name": "stdout",
     "output_type": "stream",
     "text": [
      "Epoch 39/50, Loss: 2.0228524208068848, Validation Loss: 2.131340980529785\n"
     ]
    },
    {
     "name": "stderr",
     "output_type": "stream",
     "text": [
      "\r",
      " 80%|████████  | 40/50 [31:36<08:08, 48.84s/it]"
     ]
    },
    {
     "name": "stdout",
     "output_type": "stream",
     "text": [
      "Epoch 40/50, Loss: 1.9231061935424805, Validation Loss: 2.121854782104492\n"
     ]
    },
    {
     "name": "stderr",
     "output_type": "stream",
     "text": [
      "\r",
      " 82%|████████▏ | 41/50 [32:27<07:24, 49.40s/it]"
     ]
    },
    {
     "name": "stdout",
     "output_type": "stream",
     "text": [
      "Epoch 41/50, Loss: 2.1420159339904785, Validation Loss: 2.1222896575927734\n"
     ]
    },
    {
     "name": "stderr",
     "output_type": "stream",
     "text": [
      "\r",
      " 84%|████████▍ | 42/50 [33:15<06:32, 49.00s/it]"
     ]
    },
    {
     "name": "stdout",
     "output_type": "stream",
     "text": [
      "Epoch 42/50, Loss: 2.6343932151794434, Validation Loss: 2.132641553878784\n"
     ]
    },
    {
     "name": "stderr",
     "output_type": "stream",
     "text": [
      "\r",
      " 86%|████████▌ | 43/50 [34:03<05:41, 48.83s/it]"
     ]
    },
    {
     "name": "stdout",
     "output_type": "stream",
     "text": [
      "Epoch 43/50, Loss: 1.9876370429992676, Validation Loss: 2.1446385383605957\n"
     ]
    },
    {
     "name": "stderr",
     "output_type": "stream",
     "text": [
      "\r",
      " 88%|████████▊ | 44/50 [34:55<04:57, 49.60s/it]"
     ]
    },
    {
     "name": "stdout",
     "output_type": "stream",
     "text": [
      "Epoch 44/50, Loss: 2.5895135402679443, Validation Loss: 2.1327638626098633\n"
     ]
    },
    {
     "name": "stderr",
     "output_type": "stream",
     "text": [
      "\r",
      " 90%|█████████ | 45/50 [35:50<04:16, 51.28s/it]"
     ]
    },
    {
     "name": "stdout",
     "output_type": "stream",
     "text": [
      "Epoch 45/50, Loss: 2.65946626663208, Validation Loss: 2.1420180797576904\n"
     ]
    },
    {
     "name": "stderr",
     "output_type": "stream",
     "text": [
      "\r",
      " 92%|█████████▏| 46/50 [36:44<03:28, 52.13s/it]"
     ]
    },
    {
     "name": "stdout",
     "output_type": "stream",
     "text": [
      "Epoch 46/50, Loss: 2.2004566192626953, Validation Loss: 2.1396775245666504\n"
     ]
    },
    {
     "name": "stderr",
     "output_type": "stream",
     "text": [
      "\r",
      " 94%|█████████▍| 47/50 [37:38<02:38, 52.72s/it]"
     ]
    },
    {
     "name": "stdout",
     "output_type": "stream",
     "text": [
      "Epoch 47/50, Loss: 1.3104819059371948, Validation Loss: 2.1258819103240967\n"
     ]
    },
    {
     "name": "stderr",
     "output_type": "stream",
     "text": [
      "\r",
      " 96%|█████████▌| 48/50 [38:32<01:45, 52.96s/it]"
     ]
    },
    {
     "name": "stdout",
     "output_type": "stream",
     "text": [
      "Epoch 48/50, Loss: 2.3418221473693848, Validation Loss: 2.122236967086792\n"
     ]
    },
    {
     "name": "stderr",
     "output_type": "stream",
     "text": [
      "\r",
      " 98%|█████████▊| 49/50 [39:24<00:52, 52.85s/it]"
     ]
    },
    {
     "name": "stdout",
     "output_type": "stream",
     "text": [
      "Epoch 49/50, Loss: 2.3135011196136475, Validation Loss: 2.119903087615967\n"
     ]
    },
    {
     "name": "stderr",
     "output_type": "stream",
     "text": [
      "100%|██████████| 50/50 [40:19<00:00, 48.38s/it]"
     ]
    },
    {
     "name": "stdout",
     "output_type": "stream",
     "text": [
      "Epoch 50/50, Loss: 2.487748861312866, Validation Loss: 2.128702163696289\n"
     ]
    },
    {
     "name": "stderr",
     "output_type": "stream",
     "text": [
      "\n"
     ]
    }
   ],
   "source": [
    "import tqdm\n",
    "import numpy as np\n",
    "import pandas as pd\n",
    "import torch\n",
    "import torch.nn as nn\n",
    "import torch.optim as optim\n",
    "from sklearn.model_selection import train_test_split\n",
    "\n",
    "# Function to generate dummy data\n",
    "def generate_dummy_data(num_batches, events_per_batch, pulses_per_event, sensors):\n",
    "    batches_meta = []\n",
    "    batches_data = []\n",
    "    \n",
    "    for batch_id in range(num_batches):\n",
    "        for event_id in range(events_per_batch):\n",
    "            first_pulse_index = event_id * pulses_per_event\n",
    "            last_pulse_index = (event_id + 1) * pulses_per_event - 1\n",
    "            azimuth = np.random.uniform(0, 2 * np.pi)\n",
    "            zenith = np.random.uniform(0, np.pi)\n",
    "            \n",
    "            batches_meta.append([batch_id, event_id, first_pulse_index, last_pulse_index, azimuth, zenith])\n",
    "            \n",
    "            for pulse_id in range(pulses_per_event):\n",
    "                time = np.random.randint(0, 10000)\n",
    "                sensor_id = np.random.randint(0, sensors)\n",
    "                charge = np.random.normal(1, 0.1)\n",
    "                auxiliary = np.random.choice([True, False])\n",
    "                \n",
    "                batches_data.append([event_id, time, sensor_id, charge, auxiliary])\n",
    "    \n",
    "    meta_df = pd.DataFrame(batches_meta, columns=['batch_id', 'event_id', 'first_pulse_index', 'last_pulse_index', 'azimuth', 'zenith'])\n",
    "    data_df = pd.DataFrame(batches_data, columns=['event_id', 'time', 'sensor_id', 'charge', 'auxiliary'])\n",
    "    \n",
    "    return meta_df, data_df\n",
    "\n",
    "# Parameters for dummy data generation\n",
    "num_batches = 10\n",
    "events_per_batch = 200\n",
    "pulses_per_event = 50\n",
    "sensors = 5160\n",
    "\n",
    "train_meta, train_data = generate_dummy_data(num_batches, events_per_batch, pulses_per_event, sensors)\n",
    "train_meta.to_parquet('train_meta.parquet')\n",
    "train_data.to_parquet('train_data.parquet')\n",
    "\n",
    "\n",
    "# Load the data\n",
    "train_meta = pd.read_parquet('train_meta.parquet')\n",
    "train_data = pd.read_parquet('train_data.parquet')\n",
    "\n",
    "print(train_meta)\n",
    "print(train_data)\n",
    "\n",
    "\n",
    "# Normalize the sensor IDs and times\n",
    "train_data['sensor_id'] = train_data['sensor_id'] / train_data['sensor_id'].max()\n",
    "train_data['time'] = train_data['time'] / train_data['time'].max()\n",
    "\n",
    "# Combine the data into one dataset for each event\n",
    "def combine_event_data(event_id, train_data, max_pulses):\n",
    "    event_data = train_data[train_data['event_id'] == event_id]\n",
    "    if len(event_data) < max_pulses:\n",
    "        padding = pd.DataFrame(np.zeros((max_pulses - len(event_data), len(event_data.columns))), columns=event_data.columns)\n",
    "        event_data = pd.concat([event_data, padding])\n",
    "    return np.array(event_data[['time', 'sensor_id', 'charge', 'auxiliary']].values, dtype=np.float32)\n",
    "\n",
    "print(train_meta)\n",
    "\n",
    "max_pulses = pulses_per_event\n",
    "train_meta['event_data'] = train_meta['event_id'].apply(lambda x: combine_event_data(x, train_data, max_pulses))\n",
    "\n",
    "print(train_meta['event_data'][0])\n",
    "\n",
    "class NeutrinoModel(nn.Module):\n",
    "    def __init__(self):\n",
    "        super(NeutrinoModel, self).__init__()\n",
    "        self.lstm = nn.LSTM(input_size=4, hidden_size=64, num_layers=2, batch_first=True)\n",
    "        self.fc1 = nn.Linear(64, 32)\n",
    "        self.fc2 = nn.Linear(32, 2)  # Predicting azimuth and zenith\n",
    "\n",
    "    def forward(self, x):\n",
    "        h_lstm, _ = self.lstm(x)\n",
    "        h_lstm = h_lstm[:, -1, :]  # Take the last output of the LSTM\n",
    "        x = torch.relu(self.fc1(h_lstm))\n",
    "        x = self.fc2(x)\n",
    "        return x\n",
    "\n",
    "# Initialize the model, loss function, and optimizer\n",
    "model = NeutrinoModel()\n",
    "criterion = nn.MSELoss()\n",
    "optimizer = optim.Adam(model.parameters(), lr=0.001)\n",
    "\n",
    "# Prepare the data for training\n",
    "X = np.stack(train_meta['event_data'].values)\n",
    "y = train_meta[['azimuth', 'zenith']].values\n",
    "\n",
    "# Split the data into training and validation sets\n",
    "X_train, X_val, y_train, y_val = train_test_split(X, y, test_size=0.2, random_state=42)\n",
    "\n",
    "# Convert the data to PyTorch tensors\n",
    "X_train = torch.tensor(X_train, dtype=torch.float32)\n",
    "y_train = torch.tensor(y_train, dtype=torch.float32)\n",
    "X_val = torch.tensor(X_val, dtype=torch.float32)\n",
    "y_val = torch.tensor(y_val, dtype=torch.float32)\n",
    "\n",
    "# Training the model\n",
    "num_epochs = 50\n",
    "batch_size = 32\n",
    "\n",
    "loss_vals=[]\n",
    "val_loss_vals=[]\n",
    "\n",
    "for epoch in tqdm.tqdm(range(num_epochs)):\n",
    "    model.train()\n",
    "    permutation = torch.randperm(X_train.size()[0])\n",
    "\n",
    "    for i in range(0, X_train.size()[0], batch_size):\n",
    "        indices = permutation[i:i + batch_size]\n",
    "        batch_x, batch_y = X_train[indices], y_train[indices]\n",
    "\n",
    "        optimizer.zero_grad()\n",
    "        outputs = model(batch_x)\n",
    "        loss = criterion(outputs, batch_y)\n",
    "        loss_vals.append(loss)\n",
    "        loss.backward()\n",
    "        optimizer.step()\n",
    "\n",
    "    model.eval()\n",
    "    with torch.no_grad():\n",
    "        val_outputs = model(X_val)\n",
    "        val_loss = criterion(val_outputs, y_val)\n",
    "        val_loss_vals.append(val_loss)\n",
    "    \n",
    "    print(f'Epoch {epoch + 1}/{num_epochs}, Loss: {loss.item()}, Validation Loss: {val_loss.item()}')\n",
    "\n",
    "# Save the model\n",
    "torch.save(model.state_dict(), 'neutrino_model.pth')\n",
    "\n",
    "test_meta, test_data = generate_dummy_data(num_batches, events_per_batch, pulses_per_event, sensors)\n",
    "test_meta.to_parquet('test_meta.parquet')\n",
    "test_data.to_parquet('test_data.parquet')\n",
    "\n",
    "\n",
    "# Load the test data\n",
    "test_meta = pd.read_parquet('test_meta.parquet')\n",
    "test_data = pd.read_parquet('test_data.parquet')\n",
    "\n",
    "# Preprocess the test data similarly\n",
    "test_data['sensor_id'] = test_data['sensor_id'] / test_data['sensor_id'].max()\n",
    "test_data['time'] = test_data['time'] / test_data['time'].max()\n",
    "test_meta['event_data'] = test_meta['event_id'].apply(lambda x: combine_event_data(x, test_data, max_pulses))\n",
    "\n",
    "# Prepare the test data\n",
    "X_test = np.stack(test_meta['event_data'].values)\n",
    "X_test = torch.tensor(X_test, dtype=torch.float32)\n",
    "\n",
    "# Load the model\n",
    "model.load_state_dict(torch.load('neutrino_model.pth'))\n",
    "model.eval()\n",
    "\n",
    "# Make predictions\n",
    "with torch.no_grad():\n",
    "    predictions = model(X_test)\n",
    "\n",
    "# Save predictions to a CSV file\n",
    "submission = pd.DataFrame({'event_id': test_meta['event_id'], 'azimuth': predictions[:, 0].numpy(), 'zenith': predictions[:, 1].numpy()})\n",
    "submission.to_csv('submission.csv', index=False)\n",
    "\n",
    "\n",
    "# epoch loss and epoch validation loss\n"
   ]
  },
  {
   "cell_type": "code",
   "execution_count": 6,
   "id": "ef1eb350",
   "metadata": {},
   "outputs": [],
   "source": [
    "test_meta, test_data = generate_dummy_data(num_batches, events_per_batch, pulses_per_event, sensors)\n",
    "test_meta.to_parquet('test_meta.parquet')\n",
    "test_data.to_parquet('test_data.parquet')\n",
    "\n",
    "\n",
    "# Load the test data\n",
    "test_meta = pd.read_parquet('test_meta.parquet')\n",
    "test_data = pd.read_parquet('test_data.parquet')\n",
    "\n",
    "# Preprocess the test data similarly\n",
    "test_data['sensor_id'] = test_data['sensor_id'] / test_data['sensor_id'].max()\n",
    "test_data['time'] = test_data['time'] / test_data['time'].max()\n",
    "test_meta['event_data'] = test_meta['event_id'].apply(lambda x: combine_event_data(x, test_data, max_pulses))\n",
    "\n",
    "# Prepare the test data\n",
    "X_test = np.stack(test_meta['event_data'].values)\n",
    "X_test = torch.tensor(X_test, dtype=torch.float32)\n",
    "\n",
    "# Load the model\n",
    "model.load_state_dict(torch.load('neutrino_model.pth'))\n",
    "model.eval()\n",
    "\n",
    "# Make predictions\n",
    "with torch.no_grad():\n",
    "    predictions = model(X_test)\n",
    "\n",
    "# Save predictions to a CSV file\n",
    "submission = pd.DataFrame({'event_id': test_meta['event_id'], 'azimuth': predictions[:, 0].numpy(), 'zenith': predictions[:, 1].numpy()})\n",
    "submission.to_csv('submission.csv', index=False)\n",
    "\n",
    "\n",
    "# epoch loss and epoch validation loss\n"
   ]
  },
  {
   "cell_type": "code",
   "execution_count": 3,
   "id": "767c6b69",
   "metadata": {},
   "outputs": [
    {
     "name": "stdout",
     "output_type": "stream",
     "text": [
      "     batch_id  event_id  first_pulse_index  last_pulse_index   azimuth  \\\n",
      "0           0         0                  0                49  5.872379   \n",
      "1           0         1                 50                99  4.084960   \n",
      "2           0         2                100               149  6.260847   \n",
      "3           0         3                150               199  2.680876   \n",
      "4           0         4                200               249  3.082220   \n",
      "..        ...       ...                ...               ...       ...   \n",
      "995         9        95               4750              4799  0.232430   \n",
      "996         9        96               4800              4849  3.341752   \n",
      "997         9        97               4850              4899  4.138790   \n",
      "998         9        98               4900              4949  3.680863   \n",
      "999         9        99               4950              4999  1.313518   \n",
      "\n",
      "       zenith                                         event_data  \n",
      "0    1.734314  [[0.14651465, 0.807327, 1.1335231, 0.0], [0.79...  \n",
      "1    1.267586  [[0.13681369, 0.31420818, 0.97588426, 0.0], [0...  \n",
      "2    2.341120  [[0.9309931, 0.3105253, 0.88055027, 1.0], [0.2...  \n",
      "3    2.232186  [[0.8989899, 0.42101184, 1.0212294, 1.0], [0.9...  \n",
      "4    2.425832  [[0.07280728, 0.46675712, 1.1994052, 0.0], [0....  \n",
      "..        ...                                                ...  \n",
      "995  1.650267  [[0.92749274, 0.58635396, 0.96658844, 0.0], [0...  \n",
      "996  1.019183  [[0.76057607, 0.6980035, 0.98846513, 1.0], [0....  \n",
      "997  0.054918  [[0.17261726, 0.6646637, 0.92200017, 1.0], [0....  \n",
      "998  1.197671  [[0.8765876, 0.5795697, 1.0790015, 0.0], [0.48...  \n",
      "999  2.335202  [[0.02780278, 0.69276994, 0.96666634, 1.0], [0...  \n",
      "\n",
      "[1000 rows x 7 columns]\n"
     ]
    }
   ],
   "source": [
    "print(test_meta)"
   ]
  },
  {
   "cell_type": "code",
   "execution_count": 15,
   "id": "b2e6caba",
   "metadata": {},
   "outputs": [
    {
     "name": "stdout",
     "output_type": "stream",
     "text": [
      "tensor(1.6115, grad_fn=<MseLossBackward0>)\n"
     ]
    }
   ],
   "source": [
    "print(loss)"
   ]
  },
  {
   "cell_type": "code",
   "execution_count": 17,
   "id": "2fa7c5dc",
   "metadata": {},
   "outputs": [],
   "source": [
    "loss_vals=[6.358303070068359,2.1948750019073486,2.413198232650757,1.7182303667068481,2.724888563156128,\n",
    "           2.6793246269226074,2.2783501148223877,1.767633318901062,2.6391496658325195,2.1123690605163574,\n",
    "           1.8646905422210693,2.230546712875366,2.4459893703460693,2.206084728240967,2.238365650177002,\n",
    "           1.7883658409118652,1.912092924118042,1.976357340812683,2.2133142948150635,2.188887596130371,\n",
    "           2.427145004272461,2.0155181884765625,1.8306413888931274,2.218667984008789,1.97799551486969,\n",
    "           2.170924425125122,2.746565818786621,2.6546385288238525,2.255948305130005,2.0924313068389893,\n",
    "           2.6233530044555664,1.9755799770355225,1.8434007167816162,2.217494010925293,1.944356918334961,\n",
    "           2.1384201049804688,2.269524574279785,2.218179941177368,1.8107688426971436,2.214789867401123,\n",
    "           2.289923906326294,1.832528829574585,2.139812469482422,1.8746576309204102,2.407170057296753,\n",
    "           1.5472403764724731,1.8591374158859253,1.9560428857803345,2.087611198425293,1.6115254163742065]"
   ]
  },
  {
   "cell_type": "code",
   "execution_count": 19,
   "id": "3eac271d",
   "metadata": {},
   "outputs": [],
   "source": [
    "import matplotlib.pyplot as plt"
   ]
  },
  {
   "cell_type": "code",
   "execution_count": 22,
   "id": "a7f01177",
   "metadata": {},
   "outputs": [
    {
     "data": {
      "image/png": "[encoded data removed]",
      "text/plain": [
       "<Figure size 432x288 with 1 Axes>"
      ]
     },
     "metadata": {
      "needs_background": "light"
     },
     "output_type": "display_data"
    }
   ],
   "source": [
    "plt.plot(range(50),loss_vals)\n",
    "plt.xlabel(\"Epochs\")\n",
    "plt.ylabel(\"Loss\")\n",
    "plt.show()"
   ]
  },
  {
   "cell_type": "code",
   "execution_count": 7,
   "id": "7e4601c0",
   "metadata": {},
   "outputs": [
    {
     "data": {
      "image/png": "[encoded data removed]",
      "text/plain": [
       "<Figure size 432x288 with 1 Axes>"
      ]
     },
     "metadata": {
      "needs_background": "light"
     },
     "output_type": "display_data"
    }
   ],
   "source": [
    "import matplotlib.pyplot as plt\n",
    "#plt.plot(range(50),loss_vals)\n",
    "plt.plot(range(50),val_loss_vals,color='orange')\n",
    "plt.xlabel(\"Epochs\")\n",
    "plt.ylabel('Val Loss')\n",
    "plt.show()"
   ]
  },
  {
   "cell_type": "code",
   "execution_count": null,
   "id": "ebe78fef",
   "metadata": {},
   "outputs": [],
   "source": []
  }
 ],
 "metadata": {
  "kernelspec": {
   "display_name": "Python 3 (ipykernel)",
   "language": "python",
   "name": "python3"
  },
  "language_info": {
   "codemirror_mode": {
    "name": "ipython",
    "version": 3
   },
   "file_extension": ".py",
   "mimetype": "text/x-python",
   "name": "python",
   "nbconvert_exporter": "python",
   "pygments_lexer": "ipython3",
   "version": "3.9.5"
  }
 },
 "nbformat": 4,
 "nbformat_minor": 5
}
