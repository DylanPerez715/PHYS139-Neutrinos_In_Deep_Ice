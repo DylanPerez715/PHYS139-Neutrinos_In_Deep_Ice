{
 "cells": [
  {
   "cell_type": "code",
   "execution_count": null,
   "id": "25166067",
   "metadata": {},
   "outputs": [],
   "source": [
    "import torch\n",
    "import torch_geometric\n",
    "import pandas as pd\n",
    "\n",
    "device = torch.device(\"cuda:0\" if torch.cuda.is_available() else \"cpu\")\n",
    "from tqdm.notebook import tqdm\n",
    "import numpy as np"
   ]
  },
  {
   "cell_type": "code",
   "execution_count": null,
   "id": "68c9c9db",
   "metadata": {},
   "outputs": [],
   "source": [
    "import os\n",
    "for dirname, _, filenames in os.walk('/higgs/icecube'):\n",
    "    for filename in filenames:\n",
    "        print(os.path.join(dirname, filename))"
   ]
  },
  {
   "cell_type": "code",
   "execution_count": null,
   "id": "7d834eb7",
   "metadata": {},
   "outputs": [],
   "source": [
    "train_data=pd.read_parquet('/higgs/icecube/train/batch_1.parquet')\n",
    "\n",
    "train_data_event=train_data.loc[24]\n",
    "#for i in train_data_event['charge']:\n",
    "    #print(i)\n",
    "train_data.loc"
   ]
  },
  {
   "cell_type": "code",
   "execution_count": null,
   "id": "323e4e9d",
   "metadata": {},
   "outputs": [],
   "source": [
    "train_data.index"
   ]
  },
  {
   "cell_type": "code",
   "execution_count": null,
   "id": "e84fe4bd",
   "metadata": {},
   "outputs": [],
   "source": [
    "def charge_rank(event):\n",
    "    \n",
    "    for i in event['charge']"
   ]
  },
  {
   "cell_type": "code",
   "execution_count": null,
   "id": "38055e49",
   "metadata": {},
   "outputs": [],
   "source": [
    "prev=[]\n",
    "events=0\n",
    "for i in train_data.index:\n",
    "    \n",
    "    prev.append(i)\n",
    "    \n",
    "for i in prev:\n",
    "    \n",
    "    if prev[i+1] != prev[i]:\n",
    "        events +=1\n",
    "        \n",
    "    \n",
    "        \n",
    "    \n",
    "    \n",
    "events  "
   ]
  },
  {
   "cell_type": "code",
   "execution_count": null,
   "id": "4da08aea",
   "metadata": {},
   "outputs": [],
   "source": [
    "events"
   ]
  },
  {
   "cell_type": "code",
   "execution_count": null,
   "id": "10b00620",
   "metadata": {},
   "outputs": [],
   "source": []
  }
 ],
 "metadata": {
  "kernelspec": {
   "display_name": "Python 3 (ipykernel)",
   "language": "python",
   "name": "python3"
  },
  "language_info": {
   "codemirror_mode": {
    "name": "ipython",
    "version": 3
   },
   "file_extension": ".py",
   "mimetype": "text/x-python",
   "name": "python",
   "nbconvert_exporter": "python",
   "pygments_lexer": "ipython3",
   "version": "3.9.5"
  }
 },
 "nbformat": 4,
 "nbformat_minor": 5
}
